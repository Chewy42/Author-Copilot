{
 "cells": [
  {
   "cell_type": "code",
   "execution_count": 1,
   "metadata": {},
   "outputs": [
    {
     "data": {
      "text/plain": [
       "'\\ne book automation tool using gpt-4 api and my prompts\\n\\nai prompt: You are a professional on everything business and ecommerce. You are here to write a book based on what i tell you to. You must follow my steps. Be creative, witty, and passionate, but dont over do it. You need to captivate the reader and keep their attention. Be insightful and talk as if you genuinely want to help them. The book will be approximately 75 pages long so you can ramble and talk about subjects for a long time to soak up page space. Create a lot of value out of my book and even some call to actions. Each chapter will be 2000 words minimum. Everything will be in paragraph format with a minimum of 3 sentences. Try not to use number formatting before paragraphs if possible. You can keep the chapter numbers though\\n\\nfirst prompt: come up with a title for the book and table of contents that will be for about 75 pages\\n'"
      ]
     },
     "execution_count": 1,
     "metadata": {},
     "output_type": "execute_result"
    }
   ],
   "source": [
    "'''\n",
    "e book automation tool using gpt-4 api and my prompts\n",
    "\n",
    "ai prompt: You are a professional on everything business and ecommerce. You are here to write a book based on what i tell you to. You must follow my steps. Be creative, witty, and passionate, but dont over do it. You need to captivate the reader and keep their attention. Be insightful and talk as if you genuinely want to help them. The book will be approximately 75 pages long so you can ramble and talk about subjects for a long time to soak up page space. Create a lot of value out of my book and even some call to actions. Each chapter will be 2000 words minimum. Everything will be in paragraph format with a minimum of 3 sentences. Try not to use number formatting before paragraphs if possible. You can keep the chapter numbers though\n",
    "\n",
    "first prompt: come up with a title for the book and table of contents that will be for about 75 pages\n",
    "'''"
   ]
  },
  {
   "cell_type": "code",
   "execution_count": 3,
   "metadata": {},
   "outputs": [],
   "source": [
    "import os\n",
    "import dotenv\n",
    "import openai\n",
    "\n",
    "dotenv.load_dotenv()\n",
    "\n",
    "openai.api_key = os.getenv(\"OPENAI_API_KEY\")\n",
    "openai.organization = os.getenv(\"OPENAI_ORG\")"
   ]
  },
  {
   "cell_type": "code",
   "execution_count": null,
   "metadata": {},
   "outputs": [],
   "source": [
    "title_and_contents_prompt = '''You are a professional on everything business and ecommerce. You are here to write a book based on what i tell you to. You must follow my steps. Be creative, witty, and passionate, but dont over do it. You need to captivate the reader and keep their attention. Be insightful and talk as if you genuinely want to help them. The book will be approximately 75 pages long so you can ramble and talk about subjects for a long time to soak up page space. Create a lot of value out of my book and even some call to actions. Each chapter will be 2500 words minimum. Everything will be in paragraph format with a minimum of 5 sentences. Try not to use number formatting before paragraphs if possible. You can keep the chapter numbers though'''\n",
    "\n",
    "title_and_contents = openai.ChatCompletion.create(\n",
    "  model=\"gpt-4\",\n",
    "  messages=[\n",
    "        {\"role\": \"system\", \"content\": title_and_contents_prompt}\n",
    "    ]\n",
    ")\n",
    "\n",
    "#output response to txt file\n",
    "with open('book_draft.txt', 'a') as f:\n",
    "    f.write(title_and_contents['choices'][0]['message']['content'])\n",
    "with open('next_prompt.txt', 'a') as f:\n",
    "    f.write(title_and_contents['choices'][0]['message']['content'])\n",
    "with open('log.txt', 'a') as f:\n",
    "    f.write(title_and_contents['choices'][0]['message']['content'])"
   ]
  },
  {
   "cell_type": "code",
   "execution_count": 35,
   "metadata": {},
   "outputs": [
    {
     "name": "stdout",
     "output_type": "stream",
     "text": [
      "16\n"
     ]
    }
   ],
   "source": [
    "'''\n",
    "use gpt-3.5-turbo model to take in the title and contents and tell us how many chapters there are including introduction, conclusion, and bonus chapters\n",
    "the response should just be a number nothing more nothing less\n",
    "'''\n",
    "num_chapters = None\n",
    "title_and_contents = None\n",
    "with open('title_and_contents.txt', 'r') as f:\n",
    "    title_and_contents = f.read()\n",
    "    response = openai.ChatCompletion.create(\n",
    "    model=\"gpt-4\",\n",
    "    messages=[\n",
    "            {\"role\": \"system\", \"content\": \"You are going to read what i give you and tell me ONLY how many chapters there are including introduction, conclusion, and bonus chapters. I should recieve JUST a number\"},\n",
    "            {\"role\": \"user\", \"content\": title_and_contents},\n",
    "            {\"role\": \"user\", \"content\": \"based on the table of contents, tell me ONLY the number of chapters. I am expecting a response of a number.\"}\n",
    "        ]\n",
    "    )\n",
    "    num_chapters = response['choices'][0]['message']['content']\n",
    "\n",
    "print(num_chapters)\n",
    "\n"
   ]
  },
  {
   "cell_type": "code",
   "execution_count": 45,
   "metadata": {},
   "outputs": [],
   "source": [
    "'''\n",
    "function generate chapter (chapter number, table of contents and title of book, chapter prompt)\n",
    "    generate chapter by concatonating all of the arguments (table of contents, chapter number)\n",
    "    append response to book_draft\n",
    "    append reponse to log.txt\n",
    "'''\n",
    "\n",
    "ai_sys_message = \"You are a professional on everything business and ecommerce. You are here to write a book based on what i tell you to. You must follow my steps. Be creative, witty, and passionate, but dont over do it. You need to captivate the reader and keep their attention. Be insightful and talk as if you genuinely want to help them. The book will be approximately 75 pages long so you can ramble and talk about subjects for a long time to soak up page space. Create a lot of value out of my book and even some call to actions. Each chapter will be 2500 words minimum. Everything will be in paragraph format with a minimum of 3 sentences. Try not to use number formatting before paragraphs if possible. You can keep the chapter numbers though\"\n",
    "\n",
    "def generate_chapter(chapter_number, table_of_contents, historical_context):\n",
    "    chapter = \"Write a chapter of an ebook based on the following information with a minimum of 2500 words and an absolute minimum of 5 sentences per paragraph. Be insightful, intelligent but talk in simple terms, and professional like you know what youre talking about and keep the reader interested and captivated to read more: table of contents \" + str(title_and_contents) + \" chapter to write: \" + str(chapter_number) + str(historical_context)\n",
    "    response = openai.ChatCompletion.create(\n",
    "    model=\"gpt-4\",\n",
    "    messages=[\n",
    "        {\"role\": \"system\", \"content\": ai_sys_message},\n",
    "        {\"role\": \"user\", \"content\": chapter}\n",
    "        ],\n",
    "    max_tokens=2000\n",
    "    )\n",
    "    with open('book_draft.txt', 'a') as f:\n",
    "        f.write(\"\\n\\n\" + response['choices'][0]['message']['content'])\n",
    "    with open('log.txt', 'a') as f:\n",
    "        f.write(\"\\n\\n\\n\\n\\n\\n\\n-----------------------------------\\n\")\n",
    "        f.write(response['choices'][0]['message']['content'])\n",
    "        f.write(\"\\n-----------------------------------\")\n",
    "    \n",
    "    return response['choices'][0]['message']['content']"
   ]
  },
  {
   "cell_type": "code",
   "execution_count": 44,
   "metadata": {},
   "outputs": [],
   "source": [
    "intro_chapter = generate_chapter(\"Introduction chapter\", title_and_contents, \"\")"
   ]
  },
  {
   "cell_type": "code",
   "execution_count": null,
   "metadata": {},
   "outputs": [],
   "source": [
    "chapter_1 = generate_chapter(\"chapter 1\", title_and_contents, intro_chapter[:100])"
   ]
  },
  {
   "cell_type": "code",
   "execution_count": 48,
   "metadata": {},
   "outputs": [],
   "source": [
    "chapter_2 = generate_chapter(\"chapter 2\", title_and_contents, \"\")"
   ]
  },
  {
   "cell_type": "code",
   "execution_count": 49,
   "metadata": {},
   "outputs": [],
   "source": [
    "chapter_3 = generate_chapter(\"chapter 3\", title_and_contents, \"\")"
   ]
  },
  {
   "cell_type": "code",
   "execution_count": 50,
   "metadata": {},
   "outputs": [],
   "source": [
    "chapter_4 = generate_chapter(\"chapter 4\", title_and_contents, \"\")"
   ]
  },
  {
   "cell_type": "code",
   "execution_count": 54,
   "metadata": {},
   "outputs": [],
   "source": [
    "chapter_5 = generate_chapter(\"chapter 5\", title_and_contents, \" \")"
   ]
  },
  {
   "cell_type": "code",
   "execution_count": 56,
   "metadata": {},
   "outputs": [],
   "source": [
    "chapter_6 = generate_chapter(\"chapter 6\", title_and_contents, \" \")"
   ]
  },
  {
   "cell_type": "code",
   "execution_count": 57,
   "metadata": {},
   "outputs": [],
   "source": [
    "chapter_7 = generate_chapter(\"chapter 7\", title_and_contents, \" \")"
   ]
  },
  {
   "cell_type": "code",
   "execution_count": 58,
   "metadata": {},
   "outputs": [],
   "source": [
    "chapter_8 = generate_chapter(\"chapter 8\", title_and_contents, \" \")"
   ]
  },
  {
   "cell_type": "code",
   "execution_count": 59,
   "metadata": {},
   "outputs": [],
   "source": [
    "chapter_9 = generate_chapter(\"chapter 9\", title_and_contents, \" \")"
   ]
  },
  {
   "cell_type": "code",
   "execution_count": 60,
   "metadata": {},
   "outputs": [],
   "source": [
    "chapter_10 = generate_chapter(\"chapter 10\", title_and_contents, \" \")"
   ]
  },
  {
   "cell_type": "code",
   "execution_count": 61,
   "metadata": {},
   "outputs": [],
   "source": [
    "chapter_11 = generate_chapter(\"chapter 11\", title_and_contents, \" \")"
   ]
  },
  {
   "cell_type": "code",
   "execution_count": 62,
   "metadata": {},
   "outputs": [],
   "source": [
    "chapter_12 = generate_chapter(\"chapter 12\", title_and_contents, \" \")"
   ]
  },
  {
   "cell_type": "code",
   "execution_count": 63,
   "metadata": {},
   "outputs": [],
   "source": [
    "chapter_13 = generate_chapter(\"chapter 13\", title_and_contents, \" \")"
   ]
  },
  {
   "cell_type": "code",
   "execution_count": 64,
   "metadata": {},
   "outputs": [],
   "source": [
    "chapter_bonus = generate_chapter(\"BONUS Chapter\", title_and_contents, \" \")"
   ]
  },
  {
   "cell_type": "code",
   "execution_count": 65,
   "metadata": {},
   "outputs": [],
   "source": [
    "chapter_conclusion = generate_chapter(\"Conclusion chapter\", title_and_contents, \" \")"
   ]
  }
 ],
 "metadata": {
  "kernelspec": {
   "display_name": "Python 3",
   "language": "python",
   "name": "python3"
  },
  "language_info": {
   "codemirror_mode": {
    "name": "ipython",
    "version": 3
   },
   "file_extension": ".py",
   "mimetype": "text/x-python",
   "name": "python",
   "nbconvert_exporter": "python",
   "pygments_lexer": "ipython3",
   "version": "3.10.6"
  },
  "orig_nbformat": 4
 },
 "nbformat": 4,
 "nbformat_minor": 2
}
